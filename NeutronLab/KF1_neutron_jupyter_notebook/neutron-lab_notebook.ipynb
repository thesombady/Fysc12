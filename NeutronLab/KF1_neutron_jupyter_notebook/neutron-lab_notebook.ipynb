{
 "cells": [
  {
   "cell_type": "markdown",
   "metadata": {},
   "source": [
    "# Fast-Neutron Lab\n",
    "## Data analysis code and lab notebook\n",
    "\n",
    "### Introduction\n",
    "* This 'Jupyter Notebook' is your manual, data analysis and log book all at the same time. It consists of individual cells of text or Python code and you can edit or add cells to your heart's content.\n",
    "* When using the notebook, there are two modes: *command* and *edit* mode. In command mode, you can add, move, run or delete cells. In edit mode, you modify its content. Use the *Esc* key or click outside the cell to leave edit mode. With *shift* + *return* you can run it directly from edit mode.\n",
    "* When you 'run' a cell it will either be formated or executed depending on whether it is a text cell or a code cell, respectivly. The output will be shown inside the notebook.\n",
    "* It is best to run the notebook piece-by-piece as we are progressing through the lab. If something doesn't work as expected, try 'Kernel->Restart' to get a fresh working environment.\n",
    "* Code cells support typical editing features of an IDE, such as tab-complete. You find more info in the 'Help' menu including all keyboard shortcuts!\n",
    "* **Please note**: The code is not supposed to work out-of-the-box but needs some tweaks from your side to complete all the way through! So if you encounter an error, don't despair, try to fix it and ask for help should you get stuck!"
   ]
  },
  {
   "cell_type": "markdown",
   "metadata": {},
   "source": [
    "## How to transfer data for the analysis\n",
    "The data is stored in .root files to be used with the *ROOT* data analysis framework. \n",
    "To analyse the data here instead, we need to extract the histogrammed data from the file into a format we can easliy import.\n",
    "\n",
    "For this, use the command *ROOTtoCSV*. \n",
    "The prgrams expect two input parameters the name of the *ROOT* file and the name of the histogram you want to extract.\n",
    "\n",
    "Then copy the data into the folder where you run this Jupyter Notebook from -- or use the upload function in the main Jupyter screen."
   ]
  },
  {
   "cell_type": "markdown",
   "metadata": {},
   "source": [
    "## How to run this analysis\n",
    "Some initialization in your program:\n",
    "To plot things, you use the matplotlib library. You need to import the library before the first use and initialize the interactive plots inside the notebook:\n"
   ]
  },
  {
   "cell_type": "code",
   "execution_count": null,
   "metadata": {},
   "outputs": [],
   "source": [
    "import numpy as np\n",
    "import scipy\n",
    "# enable interactive notebook plots:\n",
    "# (alternative: use 'inline' instead of 'notebook' for static images)\n",
    "%matplotlib notebook\n",
    "import matplotlib.pyplot as plt"
   ]
  },
  {
   "cell_type": "markdown",
   "metadata": {},
   "source": [
    "# Plotting the time-of-flight data\n",
    "\n",
    "* The aim is to transform the TDC spectrum into a TOF spectrum.\n",
    "* First you need to import the data and create a histogram.\n",
    "* There is already a class ready to be used called histhelpers."
   ]
  },
  {
   "cell_type": "code",
   "execution_count": null,
   "metadata": {
    "scrolled": false
   },
   "outputs": [],
   "source": [
    "import histhelpers\n",
    "from histhelpers import getBinCenters\n",
    "# enter the data from TDC YAP 0\n",
    "tof = histhelpers.import_hist_from_csv('data/filename.csv') # TODO: put correct file name!\n",
    "print(\"Loaded file '{}' imported from '{}'\".format(tof.filename, tof.name))\n",
    "\n",
    "\n",
    "fig, axes = plt.subplots() # makes new plot\n",
    "plt.yscale('log')\n",
    "axes.plot(getBinCenters(tof.bins), tof.data, label=\"NE213 with PuBe\", drawstyle=\"steps\")\n",
    "plt.xlabel('Channel')\n",
    "plt.ylabel('Counts')\n",
    "\n",
    "plt.legend()"
   ]
  },
  {
   "cell_type": "markdown",
   "metadata": {},
   "source": [
    "# Converting the TDC spectrum a to time-of-flight spectrum\n",
    "\n",
    "* To determine the $T_0$ reference point you need to find the gamma-flash.\n",
    "* The precise peak position of the gamma flash can be found by fitting a Gaussian to the data.\n",
    "* First plot the data:"
   ]
  },
  {
   "cell_type": "code",
   "execution_count": null,
   "metadata": {},
   "outputs": [],
   "source": [
    "fig, axes = plt.subplots()\n",
    "\n",
    "# plot data\n",
    "plt.yscale('log') # comment out for lin scale\n",
    "plt.ylim(ymin=1, ymax=max(tof.data))\n",
    "axes.plot(getBinCenters(tof.bins), tof.data, label=\"TOF data\", ds=\"steps\") # ls == linestyle"
   ]
  },
  {
   "cell_type": "markdown",
   "metadata": {},
   "source": [
    "Now adjust the arguments of the routine *fit_gaussians_at_pos* from the *fithelpers.py* file to match the gamma flash position:"
   ]
  },
  {
   "cell_type": "code",
   "execution_count": null,
   "metadata": {},
   "outputs": [],
   "source": [
    "import fithelpers\n",
    "# TODO: adjust position to be fitted in function's argument below\n",
    "gammaflash_fit = fithelpers.fit_gaussian_at_pos(getBinCenters(tof.bins), tof.data, pos=100)\n",
    "print(f\"gammaflash_fit1: {gammaflash_fit.mu}\")\n",
    "axes.plot(getBinCenters(tof.bins), gammaflash_fit.value(getBinCenters(tof.bins)), label=\"Gauss Fit\")"
   ]
  },
  {
   "cell_type": "markdown",
   "metadata": {},
   "source": [
    "## Optional Challenge: perform the fit on your own!\n",
    "In the previous cell we \"cheated\" a bit using ready-made helper code; why not set the parameters yourself and run [curve_fit](https://docs.scipy.org/doc/scipy/reference/generated/scipy.optimize.curve_fit.html) yourself? You'll find the necessary inspiration in the *Introduction for FYSC12 Labs* Jupyter Notebook you've received.\n",
    "\n",
    "*Discuss/state below*: What are the uncertainties of the fitted parameters? Is this better than what you would expect reading the values off by eye?"
   ]
  },
  {
   "cell_type": "code",
   "execution_count": null,
   "metadata": {},
   "outputs": [],
   "source": [
    "from scipy.optimize import curve_fit #importing fitting library\n",
    "x_val = tof.bins #TOF values\n",
    "y_val = tof.data #number of counts\n",
    "\n",
    "#....... YOUR CODE HERE .......\n"
   ]
  },
  {
   "cell_type": "markdown",
   "metadata": {},
   "source": [
    "## Calcuating $T_0$"
   ]
  },
  {
   "cell_type": "markdown",
   "metadata": {},
   "source": [
    "Now put the correct values in to calcuate the reference time $T_0$:\n",
    "\n",
    "**Optional**: Document how you determine `seconds_per_TDC_channel` by e.g. creating a new cell where you load the TDC calibration data."
   ]
  },
  {
   "cell_type": "code",
   "execution_count": null,
   "metadata": {
    "scrolled": true
   },
   "outputs": [],
   "source": [
    "#Enter the distance from detector to neutron source:\n",
    "distance =  100 # in [m]; TODO: measure and put right value here!\n",
    "speed_of_light = 2.99792458e8 # in [m/s]\n",
    "gammaflash_position = gammaflash_fit.mu # replace with value read off by eye in case you skipped the fit\n",
    "seconds_per_TDC_channel = 1e-9 # in s/ch; TODO: measure and put right value here!\n",
    "\n",
    "\n",
    "T0 = # TODO: add a calculation here!\n",
    "print (\"T0 calculated to be at: {} [ch]\".format(T0))\n",
    "\n",
    "# DRAW A LINE AT T0:\n",
    "axes.text(T0, max(tof.data)*.7, \"T0\")\n",
    "axes.plot((T0, T0), (1, max(tof.data)*.7), 'k-')"
   ]
  },
  {
   "cell_type": "markdown",
   "metadata": {},
   "source": [
    "For clarity, let's put the axis into the correct time binning, invert it and shift the zero position to T0"
   ]
  },
  {
   "cell_type": "code",
   "execution_count": null,
   "metadata": {},
   "outputs": [],
   "source": [
    "# copy spectrum into new data structure (before messing with it)\n",
    "import copy\n",
    "tof_in_ns = copy.deepcopy(tof)\n",
    "\n",
    "# now align the axis so that 0 =^= T0 and convert TDC channel to time [ns]\n",
    "tof_in_ns.bins = ((-1) * tof.bins + T0) * seconds_per_TDC_channel\n",
    "tof_in_ns.bins *= 1e9 # convert s to ns\n",
    "\n",
    "# plot the result\n",
    "fig, axes = plt.subplots()\n",
    "axes.plot(getBinCenters(tof_in_ns.bins), tof_in_ns.data, label=\"summed TOF data\", ds=\"steps\")\n",
    "plt.xlabel('time of flight [ns]')\n",
    "plt.ylabel('counts')\n",
    "plt.yscale('log')\n",
    "plt.legend()"
   ]
  },
  {
   "cell_type": "markdown",
   "metadata": {},
   "source": [
    "# Clean-up of the spectra and background subtraction\n",
    "Let's remove \"unphysical\" part with $t<0$ of the ToF spectrum"
   ]
  },
  {
   "cell_type": "code",
   "execution_count": null,
   "metadata": {},
   "outputs": [],
   "source": [
    "# make copy of spectrum first\n",
    "tof_stripped = copy.deepcopy(tof_in_ns)\n",
    "\n",
    "## remove some of the data that would mess up our calculation:\n",
    "## - find all bins with x > 0, remember last index (just for the very curious -- why last index and not first: the order in memory stays but we flipped the axis when we multiplied with -1 above)\n",
    "idx_low = np.where(tof_stripped.bins>0)[0][-1]\n",
    "#idx_high = np.where(Tn.bins>100)[0][-1] # could be used to remove upper part (replaces '0' below)\n",
    "\n",
    "## strip all other bins to remove those with x < 0\n",
    "tof_stripped.bins = tof_stripped.bins[0:idx_low]\n",
    "tof_stripped.data = tof_stripped.data[0:idx_low-1] # mind the offset, len(bins) = len(data)+1 !\n",
    "# plot the result\n",
    "fig, axes = plt.subplots()\n",
    "axes.plot(getBinCenters(tof_stripped.bins), tof_stripped.data, label=\"summed TOF data\", ds=\"steps\")\n",
    "plt.xlabel('time of flight [ns]')\n",
    "plt.ylabel('counts')\n",
    "#plt.yscale('log')\n",
    "plt.legend()"
   ]
  },
  {
   "cell_type": "markdown",
   "metadata": {},
   "source": [
    "## Optional Task: Subtract the random background from the spectrum (you still need to run the cell, even if you don't touch this part otherwise)\n",
    "\n",
    "Think about (and answer below): How can you best determine the amount of background? What are the implications of removing it? Is this a correction or a purely cosmetic step?"
   ]
  },
  {
   "cell_type": "code",
   "execution_count": null,
   "metadata": {},
   "outputs": [],
   "source": [
    "tof_wo_bckgrd = copy.deepcopy(tof_stripped)\n",
    "# subtract background of random triggers\n",
    "tof_wo_bckgrd.data -= 0 # TODO: determine (fit?) random background and put here\n",
    "\n",
    "# values < 0 are unphysical -- set to zero instead\n",
    "# tof_wo_bckgrd.data[tof_wo_bckgrd.data < 0] = 0\n",
    "\n",
    "# plot the result\n",
    "fig, axes = plt.subplots()\n",
    "plt.ylim(0.1,max(tof_wo_bckgrd.data))\n",
    "axes.plot(getBinCenters(tof_wo_bckgrd.bins), tof_wo_bckgrd.data, ds=\"steps\", label=\"TOF data w/o background\")\n",
    "plt.xlabel('time of flight [ns]')\n",
    "plt.ylabel('counts')\n",
    "plt.yscale('log')\n",
    "plt.legend()"
   ]
  },
  {
   "cell_type": "markdown",
   "metadata": {},
   "source": [
    "# Convert the time-of-flight to an energy spectrum"
   ]
  },
  {
   "cell_type": "code",
   "execution_count": null,
   "metadata": {},
   "outputs": [],
   "source": [
    "## constants:\n",
    "#Add neutron mass\n",
    "M_n = 1e6  ## mass of n in MeV/c**2; TODO: put right value here!\n",
    "\n",
    "Tn = copy.deepcopy(tof_wo_bckgrd)\n",
    "Tn.bins *= 1e-9 # convert to seconds\n",
    "\n",
    "# show the raw data once more for clarity\n",
    "fig, axes = plt.subplots()\n",
    "axes.plot(getBinCenters(Tn.bins), Tn.data, label=\"data (cut)\", drawstyle=\"steps\")\n",
    "plt.xlabel('time of flight [s]')\n",
    "plt.ylabel('counts')\n",
    "\n",
    "## non-relativistic/classic approach:\n",
    "Tn_cls = copy.deepcopy(Tn)\n",
    "Tn_cls.bins = 0.5 * (M_n / pow (speed_of_light, 2)) * ( pow(distance, 2) / pow(Tn_cls.bins, 2) )\n",
    "## relativistic approach: B. Nilsson PhD thesis, LU, 2003, equation 2.7\n",
    "Tn_rlv = copy.deepcopy(Tn)\n",
    "beta = 1. / ( 1. + ((Tn_rlv.bins - distance / speed_of_light) * speed_of_light / distance))\n",
    "Tn_rlv.bins = M_n * ( ( 1. / np.sqrt(1. - pow(beta, 2))) - 1. )\n",
    "\n",
    "# plot the result\n",
    "fig, axes = plt.subplots()\n",
    "axes.plot(getBinCenters(Tn_cls.bins), Tn_cls.data, label=\"data (classic)\", drawstyle=\"steps\")\n",
    "axes.plot(getBinCenters(Tn_rlv.bins), Tn_rlv.data, label=\"data (relativistic)\", drawstyle=\"steps\")\n",
    "\n",
    "plt.xlabel(r'$T_n \\mathrm{[MeV]}$')\n",
    "plt.ylabel('counts')\n",
    "plt.yscale('log')\n",
    "plt.ylim(ymin=0.1)\n",
    "plt.title(\"Neutron kinectic energy\")\n",
    "plt.legend()"
   ]
  },
  {
   "cell_type": "markdown",
   "metadata": {},
   "source": [
    "# Discussion\n",
    "\n",
    "Please answer the questions below, make sure that all plots above look good (i.e. show what you want to highlight and are labeled) and submit your Jupyter Notebook.\n",
    "\n",
    "1. what parameters enter into the calculation to get the energy spectrum from the original data recorded by the TDC?\n",
    "2. what are their uncertainties and how do they affect the result? How can you practically estimate this effect?\n",
    "* what would you say affects the efficiency of detecting a neutron with today's setup?\n",
    "* how can you convince your colleagues that you have measured neutrons today?\n",
    "* what is the background in this technique and how does it affect your measurement?\n",
    "* compared to charged particles, why is it so difficult to measure the neutron's energy in general?\n",
    "* what is the function of the CFD (\"constant fraction descriminator\") module in the setup? Do we actually need it?\n",
    "* can you come up with suggestions for improvment of this technique?\n",
    "\n",
    "... and: would you be interested in learning more in an *Advanced Neutron Tagging Lab*? ;)"
   ]
  },
  {
   "cell_type": "markdown",
   "metadata": {},
   "source": [
    ".... YOUR ANSWERS HERE ...."
   ]
  }
 ],
 "metadata": {
  "kernelspec": {
   "display_name": "Python 3",
   "language": "python",
   "name": "python3"
  },
  "language_info": {
   "codemirror_mode": {
    "name": "ipython",
    "version": 3
   },
   "file_extension": ".py",
   "mimetype": "text/x-python",
   "name": "python",
   "nbconvert_exporter": "python",
   "pygments_lexer": "ipython3",
   "version": "3.6.8"
  }
 },
 "nbformat": 4,
 "nbformat_minor": 1
}
