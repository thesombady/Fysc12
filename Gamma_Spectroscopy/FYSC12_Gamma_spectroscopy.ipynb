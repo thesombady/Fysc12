{
 "cells": [
  {
   "cell_type": "markdown",
   "metadata": {},
   "source": [
    "# KF6 - Gamma Spectroscopy\n",
    "\n",
    "\n",
    "## Table of Content\n",
    "\n",
    "* [Read experimental data from file](#read)\n",
    "    * [Loading spectra taken by NaI(Tl) detector](#read_na)\n",
    "    * [Loading spectra taken by HPGe detector ](#read_ge)\n",
    "\n",
    "* [Analyzing the data](#fit)\n",
    "    * [Task 1: Main features of $\\gamma$-spectra](#features)\n",
    "    * [Task 2: Energy calibration of the NaI(Tl) and HPGe detectors](#calibration)\n",
    "    * [Task 3: Full width at half maximum (FWHM) as a function of a $\\gamma$-ray energy](#fwhm)\n",
    "    * [Task 4: $^{22}$Na $\\gamma$-spectrum and relative peak intensity](#na22)\n",
    "    * [Task 5: $^{137}$Cs and the internal conversion coefficient of $^{137}$Ba](#internal)\n",
    "    * [Task 6: Binding energy of the deuteron](#deuteron)\n",
    "    * [Task 7: Background radiation ](#background)"
   ]
  },
  {
   "cell_type": "markdown",
   "metadata": {},
   "source": [
    "### Importing python packages <a name=\"import\"></a>"
   ]
  },
  {
   "cell_type": "code",
   "execution_count": null,
   "metadata": {
    "scrolled": true
   },
   "outputs": [],
   "source": [
    "#This code cell holds useful code needed for the analysis. Execute it like normal.\n",
    "# Packages to help importing files \n",
    "import sys, os\n",
    "sys.path.append('./lib')\n",
    "\n",
    "# Package that supports working with large arrays\n",
    "import numpy as np  \n",
    "\n",
    "# Package for plotting \n",
    "import matplotlib   # choose a backend for web applications; remove for stand-alone applications:\n",
    "matplotlib.use('Agg') # enable interactive notebook plots (alternative: use 'inline' instead of 'notebook'/'widget' for static images)\n",
    "%matplotlib notebook\n",
    "\n",
    "# The following line is the ONLY one needed in stand-alone applications!\n",
    "import matplotlib.pyplot as plt\n",
    "\n",
    "# Function that fits a curve to data \n",
    "from scipy.optimize import curve_fit\n",
    "\n",
    "# Custom pakages prepared for you to analyze experimental data from labs.\n",
    "# The code is located in the 'lib' subfolder which we have to specify:\n",
    "sys.path.append('./lib')\n",
    "import MCA, fittingFunctions"
   ]
  },
  {
   "cell_type": "markdown",
   "metadata": {},
   "source": [
    "----------------------------------------------------------------------------------------------------------"
   ]
  },
  {
   "cell_type": "markdown",
   "metadata": {},
   "source": [
    "# Reading experimental data <a name=\"read\"></a>"
   ]
  },
  {
   "cell_type": "markdown",
   "metadata": {},
   "source": [
    "## Loading spectra taken by NaI(Tl) detector <a name=\"read_na\"></a>"
   ]
  },
  {
   "cell_type": "markdown",
   "metadata": {},
   "source": [
    "With the help of the function `load_spectrum` from package `MCA` one can read the experimental data from one data file as follows:"
   ]
  },
  {
   "cell_type": "code",
   "execution_count": null,
   "metadata": {},
   "outputs": [],
   "source": [
    "#Load your data files here:\n",
    "Co60_NaI  = MCA.load_spectrum(\"\")\n",
    "Cs137_NaI = MCA.load_spectrum(\"\")\n",
    "Na22_NaI  = MCA.load_spectrum(\"\")\n",
    "Th232_NaI = MCA.load_spectrum(\"\")"
   ]
  },
  {
   "cell_type": "markdown",
   "metadata": {},
   "source": [
    "## Loading spectra taken by HPGe detector <a name=\"read_ge\"></a>"
   ]
  },
  {
   "cell_type": "code",
   "execution_count": null,
   "metadata": {},
   "outputs": [],
   "source": [
    "#Load your data files here:\n",
    "Co60_Ge  = MCA.load_spectrum(\"\")\n",
    "Cs137_Ge = MCA.load_spectrum(\"\")\n",
    "Na22_Ge  = MCA.load_spectrum(\"\")\n",
    "Th232_Ge = MCA.load_spectrum(\"\")\n",
    "Cf252_Ge = MCA.load_spectrum(\"\")"
   ]
  },
  {
   "cell_type": "markdown",
   "metadata": {},
   "source": [
    "----------------------------------------------------------------------------------------------------------"
   ]
  },
  {
   "cell_type": "markdown",
   "metadata": {},
   "source": [
    "# Analyzing the data <a name=\"fit\"></a>"
   ]
  },
  {
   "cell_type": "markdown",
   "metadata": {},
   "source": [
    "Many help functions have been implemented to help you analyze the data from the lab and the code is stored in [MCA.py](./lib/MCA.py) and [fittingFunctions.py](./lib/fittingFunctions.py). Run [Intro_notebook.ipynb](./Intro_notebook.ipynb) to see loads of examples on how to use the code that we implemented for you for analyzing your data from the gamma lab. Feel free to copy paste cells from the notebook and use them for your analysis."
   ]
  },
  {
   "cell_type": "markdown",
   "metadata": {},
   "source": [
    "## Task 1: Main features of $\\gamma$-spectra <a name=\"features\"></a>"
   ]
  },
  {
   "cell_type": "code",
   "execution_count": null,
   "metadata": {},
   "outputs": [],
   "source": [
    "### your code goes here \n",
    "\n",
    "\n",
    "\n"
   ]
  },
  {
   "cell_type": "markdown",
   "metadata": {},
   "source": [
    "## Task 2: Energy calibration of the NaI(Tl) and HPGe detectors <a name=\"calibration\"></a>"
   ]
  },
  {
   "cell_type": "code",
   "execution_count": null,
   "metadata": {},
   "outputs": [],
   "source": [
    "### your code goes here \n",
    "\n",
    "\n",
    "\n"
   ]
  },
  {
   "cell_type": "markdown",
   "metadata": {},
   "source": [
    "## Task 3: Full width at half maximum (FWHM) as a function of a $\\gamma$-ray energy <a name=\"fwhm\"></a>"
   ]
  },
  {
   "cell_type": "code",
   "execution_count": null,
   "metadata": {},
   "outputs": [],
   "source": [
    "### your code goes here \n",
    "\n",
    "\n",
    "\n"
   ]
  },
  {
   "cell_type": "markdown",
   "metadata": {},
   "source": [
    "## Task 4: $^{22}$Na $\\gamma$-spectrum and relative peak intensity <a name=\"na22\"></a>"
   ]
  },
  {
   "cell_type": "code",
   "execution_count": null,
   "metadata": {},
   "outputs": [],
   "source": [
    "### your code goes here \n",
    "\n",
    "\n",
    "\n"
   ]
  },
  {
   "cell_type": "markdown",
   "metadata": {},
   "source": [
    "## Task 5: $^{137}$Cs and the internal conversion coefficient of $^{137}$Ba <a name=\"internal\"></a>"
   ]
  },
  {
   "cell_type": "code",
   "execution_count": null,
   "metadata": {},
   "outputs": [],
   "source": [
    "### your code goes here \n",
    "\n",
    "\n",
    "\n"
   ]
  },
  {
   "cell_type": "markdown",
   "metadata": {},
   "source": [
    "## Task 6: Binding energy of the deuteron <a name=\"deuteron\"></a>"
   ]
  },
  {
   "cell_type": "code",
   "execution_count": null,
   "metadata": {},
   "outputs": [],
   "source": [
    "### your code goes here \n",
    "\n",
    "\n",
    "\n"
   ]
  },
  {
   "cell_type": "markdown",
   "metadata": {},
   "source": [
    "## Task 7: Background radiation <a name=\"background\"></a>"
   ]
  },
  {
   "cell_type": "markdown",
   "metadata": {},
   "source": [
    "The background spectrum that is to be analysed as a part of the lab is named\n",
    "`background_analysis.csv` and can be found in the current folder. This spectrum\n",
    "has been measured with another detector and is already calibrated. "
   ]
  },
  {
   "cell_type": "markdown",
   "metadata": {},
   "source": [
    "The spectrum can be read with the help of `MCA.py` as following:"
   ]
  },
  {
   "cell_type": "code",
   "execution_count": null,
   "metadata": {},
   "outputs": [],
   "source": [
    "background = MCA.load_calibrated_spectrum(\"Gamma_data/Background.txt\")"
   ]
  },
  {
   "cell_type": "code",
   "execution_count": null,
   "metadata": {},
   "outputs": [],
   "source": [
    "### your code goes here \n",
    "\n",
    "\n",
    "\n"
   ]
  }
 ],
 "metadata": {
  "hide_input": false,
  "kernelspec": {
   "display_name": "Python 3",
   "language": "python",
   "name": "python3"
  },
  "language_info": {
   "codemirror_mode": {
    "name": "ipython",
    "version": 3
   },
   "file_extension": ".py",
   "mimetype": "text/x-python",
   "name": "python",
   "nbconvert_exporter": "python",
   "pygments_lexer": "ipython3",
   "version": "3.8.0"
  },
  "latex_envs": {
   "LaTeX_envs_menu_present": true,
   "autoclose": false,
   "autocomplete": true,
   "bibliofile": "biblio.bib",
   "cite_by": "apalike",
   "current_citInitial": 1,
   "eqLabelWithNumbers": true,
   "eqNumInitial": 1,
   "hotkeys": {
    "equation": "Ctrl-E",
    "itemize": "Ctrl-I"
   },
   "labels_anchors": false,
   "latex_user_defs": false,
   "report_style_numbering": false,
   "user_envs_cfg": false
  },
  "toc": {
   "base_numbering": 1,
   "nav_menu": {},
   "number_sections": true,
   "sideBar": true,
   "skip_h1_title": false,
   "title_cell": "Table of Contents",
   "title_sidebar": "Contents",
   "toc_cell": false,
   "toc_position": {},
   "toc_section_display": true,
   "toc_window_display": false
  }
 },
 "nbformat": 4,
 "nbformat_minor": 2
}
