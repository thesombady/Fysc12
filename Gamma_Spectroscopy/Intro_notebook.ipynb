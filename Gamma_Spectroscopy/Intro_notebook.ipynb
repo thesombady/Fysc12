{
 "cells": [
  {
   "cell_type": "markdown",
   "metadata": {},
   "source": [
    "# Data analysis - Introduction to Jupyter Notebooks for Nuclear Physics Laboratories\n",
    "\n",
    "## Table of Content\n",
    "\n",
    " [About this Notebook](#about)\n",
    "\n",
    "* [1.Jupyter and Python Basics](#basics)\n",
    "\n",
    "    * [1.1 Before we start: Jupyter Basics](#jupyter)\n",
    "    * [1.2 Python Basics and How Python Relates to Matlab](#matlab)\n",
    "                                                       \n",
    "    * [1.3 Importing python packages](#import)\n",
    "\n",
    "\n",
    "* [2. Read experimental data from file](#read)\n",
    "    * [2.1 Loading spectrum](#load)\n",
    "    * [2.2 Plotting the data](#plot)\n",
    "\n",
    "\n",
    "* [3. Analyzing the data](#fit)\n",
    "    * [3.1 Fitting a Gaussian](#gaussian)\n",
    "        * [3.1.1 Manually adjusting Gaussian parameters to fit a peak](#manually)\n",
    "        * [3.1.1 Using python to fit a Gaussian for us ](#notmanual)\n",
    "        * [3.1.3 Improving your fit - accounting for a linear background](#background)\n",
    "    * [3.2 Calculate Peak Area](#peak_area)\n",
    "    * [3.3 Fit a line - Energy calibration](#line)\n",
    "        * [3.3.1 Find the coeficients](#coeff)\n",
    "        * [3.3.2 Apply calibration](#application)\n",
    "        \n",
    "        \n",
    "* [4. Take away](#away)\n",
    "\n",
    "## About this Notebook <a name=\"about\"></a>\n",
    "\n",
    "The purpose of this _jupyter_ notebook is to introduce data analysis tools, strategies and terminology used in gamma spectroscopy. The example programming language is _Python3_ , but of course most other coding languages can do the job properly as well. \n",
    "\n",
    "If you have never programmed before or are new to Python and would like to learn more, there are many great Python tutorials available across the web.\n",
    "There even exist plenty of _Open Online Courses_ , e.g.\n",
    "https://www.coursera.org/learn/python. Please have a look around for the one\n",
    "that you like the best. However, note that you do not need to be a\n",
    "Python programmer to pass the lab: the tool and code you will find in this notebook are enough for you to perform your own data analysis!\n",
    "\n",
    "The data analysis for these lab series can roughly be divided into four steps:\n",
    "1. Read experimental data from file.\n",
    "2. Identify peak positions.\n",
    "3. Calibrate the detector response.\n",
    "4. Perform a statistical analysis (e.g. error propagation) and present results.\n",
    "\n",
    "A dedicated python library, i.e. a folder with already written code located in\n",
    "`lib`, has been implemented for this data analysis connected to your labs. This library will support you in above mentioned steps 1-3. This introduction notebook will introduce you to these library functions as well as their working principle.\n",
    "\n",
    "Each section will consist of full Python3 coding examples of how to perform the different steps of the data\n",
    "analysis. Every example is finished with a template of how the\n",
    "analysis library can be used to perform the same calculations.\n"
   ]
  },
  {
   "cell_type": "markdown",
   "metadata": {},
   "source": [
    "# 1. Jupyter and Python Basics <a name=\"basics\"></a>"
   ]
  },
  {
   "cell_type": "markdown",
   "metadata": {},
   "source": [
    "## 1.1 Before we start: Jupyter Basics <a name=\"jupyter\"></a>\n",
    "- You can **edit** code and text cells by double clicking into them.\n",
    "- You can **run** cells and thus execute code by marking a cell and clicking 'Run' or by pressing `Ctrl-Enter` on your keyboard.\n",
    "- The **output** of the code is printed below cell and can consist of text, graphics or interative elements\n",
    "- The code you run has **'side-effects'** such as **data being modified** or stored in variables. These are kept in memory and work between different cells as Python is running in the background as a so-called Jupyter 'kernel'.\n",
    "- This means that you sometimes have to **consider the order** or the cells you run: later cells might require earlier to have been run or modify data in some way that could lead to surprising results if run twice.\n",
    "- If you want, you can **add cells** from the `Insert` menu.\n",
    "- **Should something not work as expected**:\n",
    "  - Check the error message -- it should give you a good clue what is wrong and maybe that's all you need!\n",
    "  - Make sure that you have run previous cells: they might contain code required for later cells!\n",
    "  - Use 'undo' in the menu to revert to your previous change to the problematic cell (if you modified it at all).\n",
    "  - Try restarting the Python kernel by selecting `Kernel-> Restart Kernel & Clear Output` from the menu. You will not lose any changes but your notebook will 'start over'. Simply execute the cells in order again and see whether the problem persists.\n",
    "\n",
    "If you want to modify the code, you will be pleased to hear that Jupyter supports \"tab-complete\": if you start typing for example a variable name, you can hit the `Tab` key on your keyboard to let Jupyter complete the name for you and thus save a few keystrokes! Other useful hotkeys are explained in the `Help` menu items."
   ]
  },
  {
   "cell_type": "markdown",
   "metadata": {},
   "source": [
    "## 1.2 Python Basics and How Python Relates to Matlab <a name=\"matlab\"></a>\n",
    "\n",
    "This section will familiarize you with the basic syntax and some simple commands in Python.\n",
    "Knowing this is not strictly necessary for the labs, but it will make it easier for you to read and modify the code or to look further into coding with Python:"
   ]
  },
  {
   "cell_type": "code",
   "execution_count": null,
   "metadata": {},
   "outputs": [],
   "source": [
    "# this is a comment and will do nothing but help you understand the code.\n",
    "# comments have a '#' before them.\n",
    "# this is code to print something into the notebook:\n",
    "print(\"Hello world!\")"
   ]
  },
  {
   "cell_type": "code",
   "execution_count": null,
   "metadata": {},
   "outputs": [],
   "source": [
    "# this defines a variable 'a' that holds a numeric value:\n",
    "a = 4.92351231341613135\n",
    "# if you write just the variable like this, Jupyter will print its value into the document next to an 'Out[]' marker:\n",
    "a"
   ]
  },
  {
   "cell_type": "markdown",
   "metadata": {},
   "source": [
    "Thare are different ways of printing the value of a variable into this document in a more informative way using the command `print`:"
   ]
  },
  {
   "cell_type": "code",
   "execution_count": null,
   "metadata": {},
   "outputs": [],
   "source": [
    "# printing it 'raw' gives its value:\n",
    "print(\"The variable 'a' is \", a)\n",
    "# a more verbose option: formated printing:\n",
    "# printing it formated allows to print only 3 digits after the comma\n",
    "# which is defined by the format specifier ':.3f' where 'f' stands for \n",
    "# 'float number' and .3 gives the number of digits:\n",
    "print(\"The variable 'a' is: {:.3f}\".format(a))"
   ]
  },
  {
   "cell_type": "code",
   "execution_count": null,
   "metadata": {},
   "outputs": [],
   "source": [
    "# doing arithmetics in the printout:\n",
    "print(\"a^2 = {}\".format(a*a))"
   ]
  },
  {
   "cell_type": "markdown",
   "metadata": {},
   "source": [
    "Using lists and indices in Python: Python starts counting from `0`! And `-1` always refers to the *last* index in a list."
   ]
  },
  {
   "cell_type": "code",
   "execution_count": null,
   "metadata": {},
   "outputs": [],
   "source": [
    "# simple list can be defined as:\n",
    "mylist = [1, 2, 3, 4, 5, 6, 7, 8, 9]\n",
    "mylist"
   ]
  },
  {
   "cell_type": "code",
   "execution_count": null,
   "metadata": {},
   "outputs": [],
   "source": [
    "#index in Python is always starting from 0\n",
    "print(\"mylist at index 0 = {}\".format(mylist[0]))\n",
    "print(\"mylist at last index = {}\".format(mylist[-1]))"
   ]
  },
  {
   "cell_type": "markdown",
   "metadata": {},
   "source": [
    "In our labs, we often have to manipulate data stored in lists or numpy arrays (which have a very similar syntax).\n",
    "You can select only part of a list by 'slicing' it at different index positions: `l[start_index:end_index:step size]`"
   ]
  },
  {
   "cell_type": "code",
   "execution_count": null,
   "metadata": {},
   "outputs": [],
   "source": [
    "mylist[0:5:2]"
   ]
  },
  {
   "cell_type": "code",
   "execution_count": null,
   "metadata": {},
   "outputs": [],
   "source": [
    "mylist[-1] = 10 # set index 8 to 10\n",
    "mylist[0:5:2] = [99,99,99] # set above slice to 99 each: have to assign a list of same length!\n",
    "mylist # output"
   ]
  },
  {
   "cell_type": "markdown",
   "metadata": {},
   "source": [
    "## 1.3 Importing python libraries <a name=\"import\"></a>\n",
    "\n",
    "Here is **the full list of modules** needed to run the code in the Jupyter Notebook. "
   ]
  },
  {
   "cell_type": "code",
   "execution_count": null,
   "metadata": {},
   "outputs": [],
   "source": [
    "# TODO : remove .py files from the repo that are not explicitly used here!\n",
    "# Packages to access files in the system\n",
    "import sys, os\n",
    "\n",
    "# Package that supports mathmatical operations on arrays\n",
    "import numpy as np  \n",
    "\n",
    "# Package for plotting; \n",
    "# first line makes plots interactive, \n",
    "# second actually loads the library\n",
    "%matplotlib notebook\n",
    "import matplotlib.pyplot as plt\n",
    "\n",
    "# Function that fits a curve to data \n",
    "from scipy.optimize import curve_fit\n",
    "\n",
    "# Custom pakages prepared for you to analyze experimental data from labs.\n",
    "# The code is located in the 'lib' subfolder which we have to specify:\n",
    "sys.path.append('./lib')\n",
    "import MCA, fittingFunctions, widgetsHelper"
   ]
  },
  {
   "cell_type": "markdown",
   "metadata": {},
   "source": [
    "The very first line inserts the parent directory to the search path such that the analysis code in `fittingFunctions` and `MCA.py` can be found by `python`. You will likely need most of the above modules during the labs\n",
    "\n",
    "The code below is only needed for the interactive demonstrations within this notebook, so please run it here as well:"
   ]
  },
  {
   "cell_type": "code",
   "execution_count": null,
   "metadata": {},
   "outputs": [],
   "source": [
    "# Package to create interactive plots\n",
    "# Only needed in this demo!\n",
    "from ipywidgets import interact, interactive, fixed, widgets, Button, Layout\n",
    "\n",
    "# comment this line in if you prefer to use the full width of the display:\n",
    "#from IPython.core.display import display, HTML\n",
    "#display(HTML(\"<style>.container { width:100% !important; }</style>\"))"
   ]
  },
  {
   "cell_type": "markdown",
   "metadata": {},
   "source": [
    "--------------------------------------------------------------------------------------------------------------"
   ]
  },
  {
   "cell_type": "markdown",
   "metadata": {},
   "source": [
    "# 2. Reading experimental data <a name=\"read\"></a>\n",
    "\n",
    "## 2.1 Loading a spectrum from file <a name=\"load\"></a>\n",
    "\n",
    "With the help of the function `load_spectrum` from package `MCA` one can read the experimental data from one data file as follows:"
   ]
  },
  {
   "cell_type": "code",
   "execution_count": null,
   "metadata": {
    "attributes": {
     "classes": [],
     "id": "",
     "n": "2"
    }
   },
   "outputs": [],
   "source": [
    "data = MCA.load_spectrum(\"Intro_data/test_data.Spe\")"
   ]
  },
  {
   "cell_type": "markdown",
   "metadata": {},
   "source": [
    "_If you are interested in how to read and write files in Python see e.g. http://www.pythonforbeginners.com/files/reading-and-writing-files-in-python or you could have a look at the source code in [MCA.py](./lib/MCA.py)._"
   ]
  },
  {
   "cell_type": "markdown",
   "metadata": {},
   "source": [
    "`data` is an object of a class `Spectrum` in which we store information about our histogram: `bin_edges` and `bin_centers` variables give us information about our **channels** and `counts` is used to store  **counts** (cf. [MCA.py](./lib/MCA.py)). See for instance: "
   ]
  },
  {
   "cell_type": "code",
   "execution_count": null,
   "metadata": {},
   "outputs": [],
   "source": [
    "print('bin edges = ', data.bin_edges)\n",
    "print('bin centers = ', data.bin_centers)\n",
    "print('counts = ', data.counts)"
   ]
  },
  {
   "cell_type": "markdown",
   "metadata": {},
   "source": [
    "## 2.2 Plotting the data <a name=\"plot\"></a>\n",
    "\n",
    "It is always good to visualise your data. This is how you can plot and visualise it:"
   ]
  },
  {
   "cell_type": "code",
   "execution_count": null,
   "metadata": {},
   "outputs": [],
   "source": [
    "plt.figure()\n",
    "# with the data read in with the first routine\n",
    "plt.step(data.bin_centers, data.counts, where='mid')\n",
    "\n",
    "plt.title(\"Test spectrum\") # set title of the plot\n",
    "plt.xlabel(\"Channels\")     # set label for x-axis \n",
    "plt.ylabel(\"Counts\")       # set label for y-axis \n",
    "#plt.savefig(\"test_spectrum.png\") # This is how you save the figure. Change the extension for different file types such as pdf or png."
   ]
  },
  {
   "cell_type": "markdown",
   "metadata": {},
   "source": [
    "What you have executed is actually an interactive plot. Try to move your mouse around the plot - you will notice that there are x and y values of the point under cursor diplayed in the right corner.\n",
    "\n",
    "*Note*: If the figure is too small/large for your screen, you can replace the `plt.figure()` above with `plt.figure(figsize=(12, 8))` and adjust the numbers to your liking."
   ]
  },
  {
   "cell_type": "markdown",
   "metadata": {},
   "source": [
    "--------------------------------------------------------------------------------------------------------------"
   ]
  },
  {
   "cell_type": "markdown",
   "metadata": {},
   "source": [
    "# 3. Analyzing the data <a name=\"fit\"></a>\n",
    "\n",
    "In $\\gamma$-ray (or other radiation) spectroscopy measurements, the goal is usually to determine the energy and the intensity of the radiation. To extract the energy of a given emission line (or use it for calibration puposes), the centroid of a peak must be determined. Area of the peak represents to the intensity of the radiation. A good way to find the peak centroid and area is to fit a Gaussian to the peak. \n",
    "\n",
    "## 3.1 Fitting a Gaussian <a name=\"gaussian\"></a>\n",
    "\n",
    "When we say that we \"fit\" a function to data, we mean that we are looking for the set of parameters to the function that give the best possible approximation of the data. The algorithm for this usually works iteratively: it starts with some initial guesses for the parameters and then varies in steps. Each time, the (squared) differences to the data are considered; once these are minimized, the algorithm returns the result to the user, typically with some additional statistical information that hints at the quality of the result.\n",
    "\n",
    "A fit therefore needs four ingredients:\n",
    "1. the data to fit (often a *subset* of the full data set, i.e. the peak region)\n",
    "* a function\n",
    "* initial guesses for its parameters, i.e. a starting point\n",
    "* an algorithm to perform the fit with\n",
    "\n",
    "In this notebook, we use the algorithm implemented by `curve_fit` from the `scipy.optimize` module for the latter. If you want, you find more detailed information in the [reference documentation to curve_fit](https://docs.scipy.org/doc/scipy/reference/generated/scipy.optimize.curve_fit.html). It uses a method called least squares which you can read about in most course literature on statistics and for instance on [Wolfram Alpha](http://mathworld.wolfram.com/LeastSquaresFitting.html).\n",
    "\n",
    "Specifically, we will fit a Gaussian function. A Gaussian function looks like this:\n",
    "$$G(x) = A\\cdot e^{\\frac{(x-\\mu)^2}{2\\sigma^2}}$$\n",
    "where\n",
    "- $A$ is a constant determing the amplitude of the peak, \n",
    "- $\\mu$ is the mean value of the peak (centroid),\n",
    "- $\\sigma$ is the standard diviation of the peak (width of the peak). \n",
    "\n",
    "Read up on the Gaussian function and its parameters here: [https://en.wikipedia.org/wiki/Gaussian_function](https://en.wikipedia.org/wiki/Gaussian_function)\n",
    "\n",
    "The following code shows how to use the function `curve_fit` to fit a peak in\n",
    "the data that was loaded in the cells above (i.e. _you will need to execute the above code\n",
    "section once before this section will work_).\n",
    "\n",
    "**You might get an error**, if you make a mistake in your initial guesses and the fit does not converge. Just double-check the values and try some others!\n",
    "\n",
    "**If it doesn't work or feels overwhelming to deal with curve_fit directly**, move on, there will be more and simpler exercises on fitting below (with error handling ;)."
   ]
  },
  {
   "cell_type": "markdown",
   "metadata": {},
   "source": [
    "Here is how we difine two functions that we are going to use for our fits:"
   ]
  },
  {
   "cell_type": "code",
   "execution_count": null,
   "metadata": {},
   "outputs": [],
   "source": [
    "def GaussFunc(x, A, mu, sigma):\n",
    "    return A*np.exp(-(x-mu)**2/(2.*sigma**2))\n",
    "\n",
    "def LineFunc(x, k, m):\n",
    "    return k*x+m"
   ]
  },
  {
   "cell_type": "markdown",
   "metadata": {},
   "source": [
    "### 3.1.1 Manually adjusting Gaussian parameters to fit a peak <a name=\"manually\"></a>"
   ]
  },
  {
   "cell_type": "markdown",
   "metadata": {},
   "source": [
    "Let's try to *manually* adjust a Gaussian to one of the two peaks on the spectrum. Execute the following cell by pressing ´Shift + Enter´. Then press Update to start changing the interactive plot. `Region_start` and `Region_stop` are the first and the last of x values for the region of your Gaussian. Adjust `mu_guess`, `A` and `sigma` parameters to do a manuall fit of your Gaussian. Remember that `mu` should be in the middle of your selected region. Do not forget to click  `Update` button to see updated plot. "
   ]
  },
  {
   "cell_type": "code",
   "execution_count": null,
   "metadata": {},
   "outputs": [],
   "source": [
    "region_start_widget = widgets.IntSlider(value=1400, min=int(data.bin_centers[1]), max=2000, step=1, description=r'region_start')\n",
    "region_stop_widget = widgets.IntSlider(value=1600, min=10, max=2000, step=1, description=r'region_stop')\n",
    "mu_widget = widgets.IntSlider(value=1500, min=1, max=2000, step=1, description=r'mu')\n",
    "A_widget = widgets.IntSlider(value=2000, min=0, max=data.counts.max(), step=1, description=r'A')\n",
    "sigma_widget = widgets.IntSlider(value=10, min=0, max=100, step=1, description=r'sigma')\n",
    "\n",
    "\n",
    "def interactive_plot_manual_Gauss(region_start, region_stop, A, mu, sigma):\n",
    "    widgetsHelper.plot_manual_gaussian(data.bin_centers, data.counts, region_start, region_stop, A, mu, sigma)\n",
    "\n",
    "interactive_plot = interactive(interactive_plot_manual_Gauss, {'manual': True, 'manual_name': \"Update\"}, region_start=region_start_widget, region_stop=region_stop_widget, mu = mu_widget, A = A_widget, sigma= sigma_widget)\n",
    "interactive_plot"
   ]
  },
  {
   "cell_type": "markdown",
   "metadata": {},
   "source": [
    "### 3.1.2 Using python to fit a Gaussian for us <a name=\"notmanual\"></a>"
   ]
  },
  {
   "cell_type": "markdown",
   "metadata": {},
   "source": [
    "This was probably quite a bit of work and you might not even be entirely happy with the result -- don't worry, this kind of work can be left to the computer instead!\n",
    "\n",
    "When performing a fit with the computer, it follows an algorithm similar to what you have done above. Simplified, it looks like this:\n",
    "1. start with an initial guess for the parameters\n",
    "* calculate a Gaussian with these parameters and compare to data\n",
    "* adjust the parameters and minimize the difference to the data\n",
    "\n",
    "In computer algorithm speak this is a \" $\\chi^2$ minimization\". The result are determined by the input: the data, the function to be fitted and the starting parameters. As output, you get the optimized paramters to the function and a *covariance matrix* which tells you about the quality of fit and from which you can derive uncertainties. Lucky for us, Python makes this rather simple to use!\n",
    "\n",
    "Now let's look at an interative example. Run the code below and experiment with how our initial guess of the position of peak centroid and number of points we use as input influence the result of the fit.\n",
    "\n",
    "**You do not need to change the code itself, adjust the numbers in the interactive widget instead**."
   ]
  },
  {
   "cell_type": "code",
   "execution_count": null,
   "metadata": {},
   "outputs": [],
   "source": [
    "region_start_widget = widgets.IntSlider(value=1400, min=1, max=2000, step=1, description=r'region_start')\n",
    "region_stop_widget = widgets.IntSlider(value=1600, min=10, max=2000, step=1, description=r'region_stop')\n",
    "mu_guess_widget = widgets.IntSlider(value=1500, min=1, max=2000, step=1, description=r'mu_guess')\n",
    "A_guess_widget = widgets.IntSlider(value=2000, min=0, max=data.counts.max(), step=1, description=r'A_guess')\n",
    "sigma_guess_widget = widgets.IntSlider(value=1, min=1, max=10, step=1, description=r'sigma_guess')\n",
    "\n",
    "def interactive_plot_curve_fit(region_start, region_stop, mu_guess, A_guess, sigma_guess):\n",
    "    fittingFunctions.perform_Gaussian_fit(data.bin_centers, data.counts, region_start, region_stop, mu_guess, A_guess, sigma_guess)\n",
    "\n",
    "interactive_plot2 = interactive(interactive_plot_curve_fit, {'manual': True, 'manual_name': \"Update\"}, region_start=region_start_widget, region_stop=region_stop_widget, mu_guess = mu_guess_widget, A_guess = A_guess_widget, sigma_guess = sigma_guess_widget)\n",
    "interactive_plot2\n"
   ]
  },
  {
   "cell_type": "markdown",
   "metadata": {},
   "source": [
    "### Just one line of code <a name=\"code_gauss\"></a>\n",
    "\n",
    "To produce the same results you can just use the function `perform_Gaussian_fit` from `fittingFunctions` package. \n",
    "\n",
    "\n",
    "**You can just copy the following cell and use it in your Jupyter Notebooks with solutions for laboratories.** Just adjust the input parameters as needed!"
   ]
  },
  {
   "cell_type": "code",
   "execution_count": null,
   "metadata": {},
   "outputs": [],
   "source": [
    "peak1 = fittingFunctions.perform_Gaussian_fit(x=data.bin_centers, \n",
    "                                              y=data.counts,      \n",
    "                                              region_start=780,   # bins where to start fitting\n",
    "                                              region_stop=880,    # bins where to stop fitting\n",
    "                                              mu_guess=830,       # guess for the position of peak centroid\n",
    "                                              A_guess=8000,       # guess for the amplitude of the peak\n",
    "                                              sigma_guess=1)      # guess for the sigma"
   ]
  },
  {
   "cell_type": "markdown",
   "metadata": {},
   "source": [
    "What you got in the previous cell is `peak1` which is an object of type `Gauss` from the `fittingFunctions` package. It is a convenient way of storing the variables related  to one of your fits (A, mu, sigma, coveriance matrix) together. It improves code readibility and also allows you to keep track of all your variables easier, since for some of the labs you have many peaks, so you can call your varibles more meaningful name. "
   ]
  },
  {
   "cell_type": "code",
   "execution_count": null,
   "metadata": {},
   "outputs": [],
   "source": [
    "# That's how you use peak1 object: \n",
    "print(\"Varibles stored in peak1: A={:.5f}, mu={:.5f} and sigma={:.5f}\".format(peak1.A, peak1.mu, peak1.sigma))"
   ]
  },
  {
   "cell_type": "code",
   "execution_count": null,
   "metadata": {},
   "outputs": [],
   "source": [
    "# You can also just print everything stored in peak1 by using following line: \n",
    "peak1.print_full_info()"
   ]
  },
  {
   "cell_type": "markdown",
   "metadata": {},
   "source": [
    "You can see that your values of `A`, `sigma` and `mu` come with uncertainty calculated for you by `curve_fit` function and stored in the `covariance_matrix`, where  σ²(A) = `covariance_matrix[0][0]`, σ²(mu) = `covariance_matrix[1][1]` and σ²(sigma) = `covariance_matrix[2][2]`. "
   ]
  },
  {
   "cell_type": "markdown",
   "metadata": {},
   "source": [
    "### \"Behind the curtains\"\n",
    "\n",
    "*This section is only for the curious! Feel free to skip it :)*\n",
    "\n",
    "If you want to look a little bit deeper into how to perform fits in Python yourself, the code below will show you what our routines do when you call `perform_gaussian_fit` above. All the heavy lifting is done by SciPy's `curve_fit` which is a powerful and versatile tool. If you use it directly, you can fit any curve to data not just Gaussians. Of course, there are many examples online, this should just help you get started!"
   ]
  },
  {
   "cell_type": "code",
   "execution_count": null,
   "metadata": {
    "attributes": {
     "classes": [],
     "id": "",
     "n": "6"
    }
   },
   "outputs": [],
   "source": [
    "##### Preparing out inputs to the algorithm:\n",
    "\n",
    "### 1. define the data to fit\n",
    "# define limits to the data (only want to fit peak!)\n",
    "region_start = 780  # bins where to start fitting\n",
    "region_stop  = 880  # bins where to stop fitting\n",
    "# these define a region of interest in our data binning:\n",
    "region = (region_start < data.bin_centers) & (data.bin_centers < region_stop)\n",
    "# now limit our data by 'slicing' it, limiting it to the region of interest:\n",
    "peak_region_bc     = data.bin_centers[region]\n",
    "peak_region_counts = data.counts[region]\n",
    "\n",
    "\n",
    "### 2. the function\n",
    "def GaussFunc(x, A, mu, sigma):\n",
    "    return A*np.exp(-(x-mu)**2/(2.*sigma**2))\n",
    "\n",
    "\n",
    "### 3. our initial guesses:\n",
    "mu_guess = 830                    # a guess for the position of peak centroid\n",
    "A_guess = 8000                    # a guess for the amplitude of the peak \n",
    "sigma_guess = 1\n",
    "         \n",
    "guess = [A_guess, mu_guess, sigma_guess] # our initial guess of parameters for a Gaussian fit \n",
    "\n",
    "### 4. Now we can perform the fit using curve_fit:\n",
    "\n",
    "estimates, covar_matrix = curve_fit(GaussFunc,           # name of the function\n",
    "                                    peak_region_bc,      # your xdata\n",
    "                                    peak_region_counts,  # your ydata\n",
    "                                    p0=guess)            # initial guess for the parameters\n",
    "\n",
    "A, mu, sigma = estimates[0], estimates[1], estimates[2] # unpack results\n",
    "\n",
    "### Plot your Gaussian fit\n",
    "plt.figure()\n",
    "plt.step(peak_region_bc, peak_region_counts, where='mid', label='data')                   # plotting the data \n",
    "plt.plot(peak_region_bc, GaussFunc(peak_region_bc, A, mu, sigma), 'forestgreen', label = 'Gaussian fit') # plotting the fit\n",
    "plt.legend() # adds a legend with all 'label'ed plots!\n",
    "\n",
    "### Print information about the resulting parameters\n",
    "print(\"Estimated parameters:\\n A = {:.5f}, mu = {:.5f},  sigma = {:.5f} \\n\".format(A, mu, sigma))\n",
    "print(\"Uncertainties in the estimated parameters: \\n \\u03C3\\u00b2(A) = {:.5f}, \\u03C3\\u00b2(mu) = {:.5f}, \\u03C3\\u00b2(sigma) = {:.5f} \\n\".format(covar_matrix[0][0], covar_matrix[1][1], covar_matrix[2][2]))\n",
    "print(\"Covariance matrix: \\n {}\".format(covar_matrix))\n"
   ]
  },
  {
   "cell_type": "markdown",
   "metadata": {},
   "source": [
    "### 3.1.3 Improving your fit - accounting for a linear background  <a name=\"background\"></a>\n",
    "Maybe you noted that the data we fitted before weren't entirely Gaussian in shape. Even our best fit is put off by that and the results will not be as acurate.\n",
    "\n",
    "Often in such cases we want to subtract the background from our peak. The peak may, for example, be on the Compton continuum of other peaks higher in energy. Furthermore, this step is needed to be able to correctly determine the intensity of the peak.\n",
    "\n",
    "As a \"first order approach\" our strategy will be to assume a *linear* background and to determine its parameters just around the peak we are interested in. We will therefore perform *two* fits: one to the linear background in two regions around the peak as well as a Gaussian fit to the peak *minus* the before derived linear background function. This will noticably improve the quality of the fit. Play with the values and test how stable the result is!"
   ]
  },
  {
   "cell_type": "code",
   "execution_count": null,
   "metadata": {},
   "outputs": [],
   "source": [
    "region_start_widget = widgets.IntSlider(value=750, min=1, max=2000, step=1, description=r'region_start')\n",
    "region_stop_widget = widgets.IntSlider(value=900, min=10, max=2000, step=1, description=r'region_stop')\n",
    "mu_guess_widget = widgets.IntSlider(value=800, min=1, max=2000, step=1, description=r'mu_guess')\n",
    "A_guess_widget = widgets.IntSlider(value=1700, min=0, max=data.counts.max(), step=1, description=r'A_guess')\n",
    "sigma_guess_widget = widgets.IntSlider(value=1, min=1, max=10, step=1, description=r'sigma_guess')\n",
    "left_selection_widget = widgets.IntRangeSlider(value=[760, 770], min=region_start_widget.value, max=region_stop_widget.value, description=r'left_selection')\n",
    "right_selection_widget = widgets.IntRangeSlider(value=[870, 880], min=region_start_widget.value, max=region_stop_widget.value, description=r'right_selection')\n",
    "\n",
    "def interactive_plot_line_fit(region_start, region_stop, mu_guess, A_guess, sigma_guess, left_selection, right_selection):\n",
    "    fittingFunctions.perform_Gaussian_fit(data.bin_centers, data.counts, region_start, region_stop, mu_guess, A_guess, sigma_guess, left_selection, right_selection)\n",
    "\n",
    "interactive_plot3 = interactive(interactive_plot_line_fit, {'manual': True, 'manual_name': \"Update\"}, region_start=region_start_widget, region_stop=region_stop_widget, mu_guess = mu_guess_widget, A_guess = A_guess_widget, sigma_guess = sigma_guess_widget, left_selection=left_selection_widget, right_selection=right_selection_widget)\n",
    "interactive_plot3"
   ]
  },
  {
   "cell_type": "markdown",
   "metadata": {},
   "source": [
    "### With just one line of code:  <a name=\"code_background\"></a>\n",
    "\n",
    "To make a Gaussian fit that takes into account the background just use a function `perform_Gaussian_fit` from `fittingFunctions` package with specifying `left_selection` and `right_selection` arrays. *In case you are interested in how the fit was performed you have a look on the function ``perform_Gaussian_fit`` in [fittingFunctions.py](./lib/fittingFunctions.py).*\n",
    "\n",
    "\n",
    "**You can just copy the following cell and use it in your Jupyter Notebooks with solutions for laboratories.** Be sure to adjust the parameters to your needs."
   ]
  },
  {
   "cell_type": "code",
   "execution_count": null,
   "metadata": {},
   "outputs": [],
   "source": [
    "gauss = fittingFunctions.perform_Gaussian_fit(x = data.bin_centers, \n",
    "                                              y = data.counts,\n",
    "                                              # region to use\n",
    "                                              region_start = 750, \n",
    "                                              region_stop = 900,\n",
    "                                              # initial guesses\n",
    "                                              mu_guess = 800, \n",
    "                                              A_guess = 1680, \n",
    "                                              sigma_guess = 2,\n",
    "                                              # regions for linear background fitting/subtraction:\n",
    "                                              left_selection = [760, 770], \n",
    "                                              right_selection = [870, 880])"
   ]
  },
  {
   "cell_type": "markdown",
   "metadata": {},
   "source": [
    "### \"Behind the curtains\"\n",
    "\n",
    "*Again, this section is only for anyone curious about the details!*\n",
    "\n",
    "As before, we are using `curve_fit` to actually perform the fits. This time, we use it twice: once for the linear fit to the background, then for the Gaussian fit to the data minus the background."
   ]
  },
  {
   "cell_type": "code",
   "execution_count": null,
   "metadata": {},
   "outputs": [],
   "source": [
    "# define limits to the data (only want to fit peak!)\n",
    "region_start = 750  # bins where to start fitting\n",
    "region_stop  = 900  # bins where to stop fitting\n",
    "# these define a region of interest in our data binning:\n",
    "region = (region_start < data.bin_centers) & (data.bin_centers < region_stop)\n",
    "# now limit our data by 'slicing' it, limiting it to the region of interest:\n",
    "peak_region_bc     = data.bin_centers[region]\n",
    "peak_region_counts = data.counts[region]\n",
    "# let's select channels on both sides of our fit to which we want to fit our line: \n",
    "left_selection = [760, 770]\n",
    "right_selection = [870, 880]\n",
    "\n",
    "############ Selecting points to fit linear function\n",
    "# select a region with logic statement:\n",
    "lin_region = ((data.bin_centers>left_selection[0]) & (data.bin_centers<left_selection[1])) | ((data.bin_centers>right_selection[0]) & (data.bin_centers<right_selection[1]))\n",
    "lin_bc = data.bin_centers[lin_region]\n",
    "lin_counts = data.counts[lin_region]\n",
    "\n",
    "\n",
    "############ Fitting linear function to selected points\n",
    "\n",
    "guess = [2, 1]\n",
    "\n",
    "estimates_lin, covar_matrix = curve_fit(fittingFunctions.LineFunc,\n",
    "                                    lin_bc,\n",
    "                                    lin_counts,\n",
    "                                    p0 = guess)\n",
    "\n",
    "\n",
    "############ Subtracting the linear background\n",
    "\n",
    "line = LineFunc(peak_region_bc, estimates_lin[0], estimates_lin[1])\n",
    "peak_region_counts_subs = peak_region_counts - line\n",
    "\n",
    "############ Fit the Gaussian to the peak without backround\n",
    "\n",
    "guess = [A_guess, mu_guess, sigma_guess]\n",
    "\n",
    "estimates, covar_matrix = curve_fit(fittingFunctions.GaussFunc,\n",
    "                                    peak_region_bc,\n",
    "                                    peak_region_counts_subs,\n",
    "                                    p0=guess)\n",
    "A, mu, sigma = estimates[0], estimates[1], estimates[2] # unpack results\n",
    "\n",
    "peak1 = fittingFunctions.Gauss(estimates[0], estimates[1], estimates[2], covar_matrix)\n",
    "\n",
    "############ Plotting results \n",
    "# TODO : this is quite a wall of values -- can this be simplified?\n",
    "plt.figure()\n",
    "plt.step(peak_region_bc, peak_region_counts, where='mid', color='cornflowerblue', label='data') #plotting data\n",
    "plt.vlines(left_selection+right_selection, ymin=0, ymax=peak1.A)  #plot support lines around selected points \n",
    "plt.plot(peak_region_bc, line + GaussFunc(peak_region_bc, peak1.A, peak1.mu, peak1.sigma), color='forestgreen', label = 'Gaussian fit')  # plot Gaussian \n",
    "plt.plot(lin_bc, LineFunc(lin_bc, estimates_lin[0], estimates_lin[1]), color='r', label = 'linear fit', alpha=0.6)  # plot linear fit\n",
    "\n",
    "########### Printing results\n",
    "print(\"Linear fit estimates (k m) = (\", estimates_lin[0], estimates_lin[1], \")\\n\")\n",
    "print(\"Estimates of (A mu sigma) = (\", peak1.A, peak1.mu, peak1.sigma, \")\\n\")\n",
    "print(\"Covariance matrix = \\n\", peak1.covar_matrix, \"\\n\")\n",
    "print(\"Uncertainties in the estimated parameters: \\n[ sigma^2(A) sigma^2(mu), sigma^2(sigma) ] = \\n[\", peak1.covar_matrix[0][0], peak1.covar_matrix[1][1], peak1.covar_matrix[2][2], \"]\" )\n"
   ]
  },
  {
   "cell_type": "markdown",
   "metadata": {},
   "source": [
    "### Practice time "
   ]
  },
  {
   "cell_type": "markdown",
   "metadata": {},
   "source": [
    "Now, since we know how to fit a peak, lets practice with the second peak on our test spectrum. Adjust the parameters to improve the current state of the fit:"
   ]
  },
  {
   "cell_type": "code",
   "execution_count": null,
   "metadata": {},
   "outputs": [],
   "source": [
    "#Let's select channels on both sides of our fit to which we want to fit our line: \n",
    "left_selection = [800, 900]\n",
    "right_selection = [1100, 1200]\n",
    "\n",
    "#And usual parameters:\n",
    "region_start = 800 # bins where to start fitting\n",
    "region_stop = 1150  # bins where to stop fitting\n",
    "\n",
    "mu_guess = 900 # a guess for the position of peak centroid\n",
    "A_guess = 2000  # a guess for the amplitude of the peak \n",
    "sigma_guess = 10 # a guess for the sigma\n",
    "\n",
    "peak2 = fittingFunctions.perform_Gaussian_fit(data.bin_centers, data.counts, region_start, region_stop, mu_guess, A_guess, sigma_guess, left_selection, right_selection)"
   ]
  },
  {
   "cell_type": "markdown",
   "metadata": {},
   "source": [
    "## 3.2 Compute a peak area - Intensity calculations <a name=\"peak_area\"></a>"
   ]
  },
  {
   "cell_type": "markdown",
   "metadata": {},
   "source": [
    "In gamma spectroscopy the area of the peak is determined by the intensity of the gamma ray and the efficiency of the detector. There are different ways of how to calculate the area of a peak in a spectrum. The by far easiest method is to calculate the area of the fitted Gaussian function (see [https://en.wikipedia.org/wiki/Gaussian_function](https://en.wikipedia.org/wiki/Gaussian_function)). Now that we actually have our Gaussian parameters we can use them for the intensity calculations. "
   ]
  },
  {
   "cell_type": "code",
   "execution_count": null,
   "metadata": {},
   "outputs": [],
   "source": [
    "Area = np.sqrt(2*np.pi)*peak2.A*np.abs(peak2.sigma)\n",
    "print('Area of the second peak is {:.2f}'.format(Area))"
   ]
  },
  {
   "cell_type": "markdown",
   "metadata": {},
   "source": [
    "## 3.3 Fit a line - Energy calibration <a name=\"line\"></a>\n",
    "\n",
    "In spectroscopy experiments it is often essential to calibrate the detector response with respect to a known energies emitted from a so called calibration source. The relationship between the detector response and the energy is mostly assumed linear. The code below exemplifies how to estimate the linear calibration for 'random data'."
   ]
  },
  {
   "cell_type": "markdown",
   "metadata": {},
   "source": [
    "### 3.3.1 Find calibration coefficients <a name=\"coeff\"></a>"
   ]
  },
  {
   "cell_type": "markdown",
   "metadata": {},
   "source": [
    "To perform an energy calibration we need to \"match\" energies of the peaks to the peaks centroids we caculated with our Gaussian fits. "
   ]
  },
  {
   "cell_type": "markdown",
   "metadata": {},
   "source": [
    "Our spectrum is actually **Co-60** source which emits gammas with **energies** of 1173.228 keV and 1332.492 keV :"
   ]
  },
  {
   "cell_type": "code",
   "execution_count": null,
   "metadata": {},
   "outputs": [],
   "source": [
    "# we define them as Numpy arrays, as these are easier to use in calculations than lists:\n",
    "energy = np.array([1173.228, 1332.492])"
   ]
  },
  {
   "cell_type": "markdown",
   "metadata": {},
   "source": [
    "We fitted two of our peaks, so we know their peak centroids: "
   ]
  },
  {
   "cell_type": "code",
   "execution_count": null,
   "metadata": {},
   "outputs": [],
   "source": [
    "channels = np.array([peak1.mu, peak2.mu])"
   ]
  },
  {
   "cell_type": "code",
   "execution_count": null,
   "metadata": {},
   "outputs": [],
   "source": [
    "### 1. define the data to fit\n",
    "# see energy and channels in the cells above\n",
    "\n",
    "### 2. the function\n",
    "def LineFunc(x, k, m):\n",
    "    return k*x+m\n",
    "\n",
    "### 3. our intial guess \n",
    "guess = [2, # k\n",
    "         1] # m\n",
    "\n",
    "### 4. now we can perform the fit using curve_fit:\n",
    "estimates, covar_matrix = curve_fit(LineFunc,\n",
    "                                    channels,\n",
    "                                    energy,\n",
    "                                    p0 = guess)\n",
    "\n",
    "k = estimates[0] # unpack our values \n",
    "m = estimates[1] # unpack our values \n",
    "\n",
    "print(\"Estimates of k = {:.2f} and  m = {:.2f}\".format(k, m))\n",
    "\n",
    "### Plot your Gaussian fit\n",
    "plt.figure()\n",
    "plt.plot(channels, energy, linestyle=\"\", marker=\"*\", label='data points')\n",
    "plt.plot(channels, LineFunc(channels, k, m), label='linear fit')\n",
    "plt.legend(loc='upper left')\n",
    "plt.title(\"Energy calibration\") # set title of the plot\n",
    "plt.xlabel(\"Channels\")     # set label for x-axis \n",
    "plt.ylabel(\"Energy\")       # set label for y-axis \n",
    "plt.show()"
   ]
  },
  {
   "cell_type": "markdown",
   "metadata": {},
   "source": [
    "*Note*: You might see a warning from the fit: this is due to the low number of data points we use in this \"fit\"."
   ]
  },
  {
   "cell_type": "markdown",
   "metadata": {},
   "source": [
    "### Apply calibration <a name=\"application\"></a>"
   ]
  },
  {
   "cell_type": "markdown",
   "metadata": {},
   "source": [
    "You can apply an energy calibration to you data in the next way:"
   ]
  },
  {
   "cell_type": "code",
   "execution_count": null,
   "metadata": {},
   "outputs": [],
   "source": [
    "data.calibrate(k, m) ### which means data.energy = data.bin_centers * k + m "
   ]
  },
  {
   "cell_type": "code",
   "execution_count": null,
   "metadata": {},
   "outputs": [],
   "source": [
    "plt.figure()\n",
    "# with the data read in with the first routine\n",
    "plt.step(data.energy, data.counts, where='mid', label='Calibrated data')\n",
    "\n",
    "plt.title(\"Calibrated Co-60 spectrum\") # set title of the plot\n",
    "plt.xlabel(\"Energy, keV\")     # set label for x-axis \n",
    "plt.ylabel(\"Counts\")          # set label for y-axis \n",
    "plt.legend()                  # enables legend for all plots with a 'label'\n",
    "#plt.savefig(\"test_spectrum.png\") # This is how you save the figure. Change the extension for different file types such as pdf or png."
   ]
  },
  {
   "cell_type": "markdown",
   "metadata": {},
   "source": [
    "# 4. Take away <a name=\"away\"></a>"
   ]
  },
  {
   "cell_type": "markdown",
   "metadata": {
    "tags": [
     "read"
    ]
   },
   "source": [
    "The aim of this notebook is to be **a usefull tool** for you to use during your labs. \n",
    "\n",
    "Remember, the goal is not to teach you programming, but rather to introduce you to it and show how Python as one of many programming languages could make lives of physicists easier. And as a physicist, it is always good to have many tools available in your toolbelt!\n",
    "\n",
    "This time, we did all the programming for you and prepared Jupyter Notebooks for each lab, so that you have more time to focus on the physics :) "
   ]
  }
 ],
 "metadata": {
  "hide_input": false,
  "kernelspec": {
   "display_name": "Python 3",
   "language": "python",
   "name": "python3"
  },
  "language_info": {
   "codemirror_mode": {
    "name": "ipython",
    "version": 3
   },
   "file_extension": ".py",
   "mimetype": "text/x-python",
   "name": "python",
   "nbconvert_exporter": "python",
   "pygments_lexer": "ipython3",
   "version": "3.7.6"
  },
  "latex_envs": {
   "LaTeX_envs_menu_present": true,
   "autoclose": false,
   "autocomplete": true,
   "bibliofile": "biblio.bib",
   "cite_by": "apalike",
   "current_citInitial": 1,
   "eqLabelWithNumbers": true,
   "eqNumInitial": 1,
   "hotkeys": {
    "equation": "Ctrl-E",
    "itemize": "Ctrl-I"
   },
   "labels_anchors": false,
   "latex_user_defs": false,
   "report_style_numbering": false,
   "user_envs_cfg": false
  },
  "toc": {
   "base_numbering": 1,
   "nav_menu": {},
   "number_sections": true,
   "sideBar": true,
   "skip_h1_title": false,
   "title_cell": "Table of Contents",
   "title_sidebar": "Contents",
   "toc_cell": false,
   "toc_position": {},
   "toc_section_display": true,
   "toc_window_display": false
  }
 },
 "nbformat": 4,
 "nbformat_minor": 4
}
